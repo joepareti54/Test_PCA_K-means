{
 "cells": [
  {
   "cell_type": "code",
   "execution_count": 1,
   "metadata": {},
   "outputs": [],
   "source": [
    "# revisit on 5-15-2020 and \n",
    "# explore new features, keys()\n",
    "# and pd.DataFrame\n",
    "import pandas as pd\n",
    "import numpy as np\n",
    "import matplotlib.pyplot as plt\n",
    "from sklearn.decomposition import PCA\n",
    "from sklearn.cluster import KMeans\n",
    "from sklearn.preprocessing import StandardScaler\n"
   ]
  },
  {
   "cell_type": "code",
   "execution_count": 2,
   "metadata": {},
   "outputs": [],
   "source": [
    "def get_kmeans_score(data, center):\n",
    "    '''\n",
    "    returns the kmeans score regarding SSE for points to centers\n",
    "    INPUT:\n",
    "        data - the dataset you want to fit kmeans to\n",
    "        center - the number of centers you want (the k value)\n",
    "    OUTPUT:\n",
    "        score - the SSE score for the kmeans model fit to the data\n",
    "    '''\n",
    "    #instantiate kmeans\n",
    "    kmeans = KMeans(n_clusters=center)\n",
    "\n",
    "    # Then fit the model to your data using the fit method\n",
    "    model = kmeans.fit(data)\n",
    "\n",
    "    # Obtain a score related to the model fit\n",
    "    score = np.abs(model.score(data))\n",
    "\n",
    "    return score\n"
   ]
  },
  {
   "cell_type": "code",
   "execution_count": 3,
   "metadata": {},
   "outputs": [
    {
     "name": "stdout",
     "output_type": "stream",
     "text": [
      "{'apples': [3, 2, 0, 9, 2, 1], 'oranges': [0, 7.6, 7, 2, 7, 6], 'figs': [1.4, 11, 10.999, 3.99, 10, 2], 'pears': [5, 2, 6, 2.45, 1, 7], 'berries': [1.3, 4, 10, 0, 5, 21], 'tomatoes': [5, 15, 3, 4, 17, 5], 'onions': [11, 3, 3, 1, 0, 10]}\n"
     ]
    }
   ],
   "source": [
    "data = {\n",
    "    'apples': [3, 2, 0, 9, 2, 1], \n",
    "    'oranges': [0, 7.6, 7, 2, 7, 6],\n",
    "    'figs':[1.4, 11, 10.999, 3.99, 10, 2],\n",
    "    'pears': [5, 2, 6, 2.45, 1, 7],\n",
    "    'berries': [1.3, 4, 10, 0, 5,21],\n",
    "    'tomatoes': [5, 15, 3, 4, 17,5],\n",
    "    'onions': [11,3, 3, 1, 0, 10]\n",
    "    \n",
    "}\n",
    "print(data)\n"
   ]
  },
  {
   "cell_type": "code",
   "execution_count": 4,
   "metadata": {},
   "outputs": [
    {
     "name": "stdout",
     "output_type": "stream",
     "text": [
      "        apples  oranges    figs  pears  berries  tomatoes  onions\n",
      "June         3      0.0   1.400   5.00      1.3         5      11\n",
      "Robert       2      7.6  11.000   2.00      4.0        15       3\n",
      "Lily         0      7.0  10.999   6.00     10.0         3       3\n",
      "David        9      2.0   3.990   2.45      0.0         4       1\n",
      "Bob          2      7.0  10.000   1.00      5.0        17       0\n",
      "Karen        1      6.0   2.000   7.00     21.0         5      10\n"
     ]
    }
   ],
   "source": [
    "\n",
    "purchases = pd.DataFrame(data, index=['June', 'Robert', 'Lily', 'David', 'Bob', 'Karen'])\n",
    "\n",
    "print(purchases)"
   ]
  },
  {
   "cell_type": "code",
   "execution_count": 5,
   "metadata": {},
   "outputs": [
    {
     "name": "stdout",
     "output_type": "stream",
     "text": [
      "[[ 0.05725983 -1.69841555 -1.28745262  0.51465024 -0.82108966 -0.56446712\n",
      "   1.48365074]\n",
      " [-0.28629917  1.01904933  1.05337032 -0.80873608 -0.39881498  1.21806062\n",
      "  -0.3904344 ]\n",
      " [-0.97341717  0.67936622  1.05337032  0.95577901  0.44573438 -0.92097266\n",
      "  -0.3904344 ]\n",
      " [ 2.11861384 -1.01904933 -0.58520574 -0.80873608 -0.96184788 -0.74271989\n",
      "  -0.85895569]\n",
      " [-0.28629917  0.67936622  0.81928803 -1.24986486 -0.25805675  1.57456616\n",
      "  -1.09321633]\n",
      " [-0.62985817  0.33968311 -1.05337032  1.39690778  1.99407488 -0.56446712\n",
      "   1.2493901 ]]\n"
     ]
    }
   ],
   "source": [
    "Y1 = pd.DataFrame(np.round(purchases,0), columns = purchases.keys())\n",
    "scaler = StandardScaler()\n",
    "Y = scaler.fit_transform(Y1)\n",
    "print(Y)"
   ]
  },
  {
   "cell_type": "code",
   "execution_count": 6,
   "metadata": {},
   "outputs": [
    {
     "name": "stdout",
     "output_type": "stream",
     "text": [
      "[0.47490284 0.36382091 0.09439877]\n",
      "(3, 7)\n",
      "[[ 0.02085614  0.31884425  0.45893185 -0.46052569 -0.22325902  0.43935119\n",
      "  -0.48200306]\n",
      " [ 0.57263082 -0.4893807  -0.25562415 -0.31044317 -0.50297039 -0.09228953\n",
      "  -0.0968774 ]\n",
      " [ 0.29377403  0.14828313  0.27860086  0.21513651  0.14285469 -0.68832792\n",
      "  -0.52307169]]\n"
     ]
    }
   ],
   "source": [
    "pca = PCA(n_components=3)\n",
    "W = pca.fit_transform(Y)\n",
    "print(pca.explained_variance_ratio_)\n",
    "print(pca.components_.shape)\n",
    "print(pca.components_)\n",
    "# pca is the model that will aslo be applied to the new dataset"
   ]
  },
  {
   "cell_type": "code",
   "execution_count": 7,
   "metadata": {},
   "outputs": [
    {
     "name": "stdout",
     "output_type": "stream",
     "text": [
      "(1, 39.19114589578841)\n",
      "(2, 22.7953763741883)\n",
      "(3, 9.034650751067606)\n",
      "(4, 3.5873127155487725)\n"
     ]
    }
   ],
   "source": [
    "# apply k-means\n",
    "scores = []\n",
    "centers = list(range(1,5))\n",
    "\n",
    "for center in centers:\n",
    "    scores.append(get_kmeans_score(W, center))\n",
    "X = zip(centers, scores)\n",
    "for i in X:\n",
    "        print(i)\n"
   ]
  },
  {
   "cell_type": "code",
   "execution_count": 8,
   "metadata": {},
   "outputs": [
    {
     "name": "stdout",
     "output_type": "stream",
     "text": [
      "k-means score on  4  clusters for the original dataset =  3.5873127155487725\n"
     ]
    }
   ],
   "source": [
    "# from the above results, assume the elbow is 4 clusters\n",
    "n_c = 4\n",
    "kmeans = KMeans(n_clusters=4)\n",
    "model = kmeans.fit(W)\n",
    "score = np.abs(model.score(W))\n",
    "print('k-means score on ', n_c, ' clusters for the original dataset = ',score)\n",
    "# model is the k-means model that will also be applied to the new dataset"
   ]
  },
  {
   "cell_type": "code",
   "execution_count": 9,
   "metadata": {},
   "outputs": [
    {
     "name": "stdout",
     "output_type": "stream",
     "text": [
      "{'apples': [9, 20, 10, 2, 12, 1], 'oranges': [10, 3, 12, 1, 18, 5], 'figs': [34, 11, 3.999, 1, 0, 12], 'pears': [5, 2, 16, 2.45, 10, 11], 'berries': [13, 4, 1, 2, 15, 4], 'tomatoes': [7, 2, 1, 14, 27, 2], 'onions': [1, 10, 11, 2, 4, 10]}\n",
      "        apples  oranges    figs  pears  berries  tomatoes  onions\n",
      "June         9       10  34.000   5.00       13         7       1\n",
      "Robert      20        3  11.000   2.00        4         2      10\n",
      "Lily        10       12   3.999  16.00        1         1      11\n",
      "David        2        1   1.000   2.45        2        14       2\n",
      "Bob         12       18   0.000  10.00       15        27       4\n",
      "Karen        1        5  12.000  11.00        4         2      10\n"
     ]
    }
   ],
   "source": [
    "NEW_data = {\n",
    "    'apples': [9, 20, 10, 2, 12,1], \n",
    "    'oranges': [10, 3, 12, 1, 18, 5],\n",
    "    'figs':[34, 11, 3.999, 1, 0, 12],\n",
    "    'pears': [5, 2, 16, 2.45, 10, 11],\n",
    "    'berries': [13, 4, 1, 2, 15, 4],\n",
    "    'tomatoes': [7, 2, 1, 14, 27, 2],\n",
    "    'onions': [1,10, 11, 2, 4, 10]\n",
    "    \n",
    "}\n",
    "print(NEW_data)\n",
    "purchases_N = pd.DataFrame(NEW_data)\n",
    "purchases_N = pd.DataFrame(NEW_data, index=['June', 'Robert', 'Lily', 'David', 'Bob', 'Karen'])\n",
    "\n",
    "print(purchases_N)\n",
    "\n"
   ]
  },
  {
   "cell_type": "code",
   "execution_count": 10,
   "metadata": {},
   "outputs": [
    {
     "name": "stdout",
     "output_type": "stream",
     "text": [
      "[[ 0.          0.31531701  2.05301801 -0.52075564  1.19506026 -0.19791729\n",
      "  -1.29777137]\n",
      " [ 1.72493763 -0.88862066  0.05783149 -1.10660574 -0.45963856 -0.73769171\n",
      "   0.89221782]\n",
      " [ 0.15681251  0.6592992  -0.54939919  1.62736139 -1.01120483 -0.84564659\n",
      "   1.13554995]\n",
      " [-1.09768758 -1.23260285 -0.8096409  -1.10660574 -0.82734941  0.5577669\n",
      "  -1.05443924]\n",
      " [ 0.47043754  1.69124577 -0.89638814  0.45566119  1.5627711   1.9611804\n",
      "  -0.56777497]\n",
      " [-1.2545001  -0.54463847  0.14457873  0.65094455 -0.45963856 -0.73769171\n",
      "   0.89221782]]\n"
     ]
    }
   ],
   "source": [
    "YY1 = pd.DataFrame(np.round(purchases_N,0), columns = purchases_N.keys())\n",
    "YY = scaler.fit_transform(YY1)\n",
    "print(YY)"
   ]
  },
  {
   "cell_type": "code",
   "execution_count": 11,
   "metadata": {},
   "outputs": [
    {
     "name": "stdout",
     "output_type": "stream",
     "text": [
      "k-means score on  4  clusters for the new dataset =  18.854197119878442\n",
      "18.854197119878442\n"
     ]
    }
   ],
   "source": [
    "W1 = pca.transform(YY)\n",
    "scoreNew = np.abs(model.score(W1))\n",
    "print('k-means score on ', n_c, ' clusters for the new dataset = ',scoreNew)\n",
    "print(scoreNew)\n",
    "# k-means score the new dataset using the model determined on original ds "
   ]
  },
  {
   "cell_type": "code",
   "execution_count": 12,
   "metadata": {},
   "outputs": [
    {
     "name": "stdout",
     "output_type": "stream",
     "text": [
      "original data\n",
      "[[-2.1480063   1.35464084 -0.987804  ]\n",
      " [ 1.98720186 -0.55484496 -0.50469076]\n",
      " [-0.07637938 -1.55723015  1.21569833]\n",
      " [ 0.1255879   2.74808564  0.95738418]\n",
      " [ 2.4385678  -0.22744336 -0.57285788]\n",
      " [-2.32697188 -1.76320801 -0.10772987]]\n",
      "predictions --- original data\n",
      "[3 0 1 2 0 1]\n",
      "new data\n",
      "[[ 1.55432032 -0.97453552  1.49247464]\n",
      " [-0.36273394  1.9642114   0.12843342]\n",
      " [-1.48120803 -0.12097487  0.18452493]\n",
      " [ 0.66016023  0.9919518  -0.91945421]\n",
      " [ 0.7142442  -1.3826139  -0.59241862]\n",
      " [-1.08478277 -0.47803891 -0.29356015]]\n",
      "predictions --- new data\n",
      "[0 2 1 0 0 1]\n"
     ]
    }
   ],
   "source": [
    "# predictions for the 2 datasets using the k-means model based on orig data\n",
    "predict_purchases_dataset = model.predict(W)\n",
    "predict_purchases_NewDataset = model.predict(W1)\n",
    "print('original data')\n",
    "print(W)\n",
    "print('predictions --- original data')\n",
    "print(predict_purchases_dataset)\n",
    "print('new data')\n",
    "print(W1)\n",
    "print('predictions --- new data')\n",
    "print(predict_purchases_NewDataset)"
   ]
  },
  {
   "cell_type": "code",
   "execution_count": 13,
   "metadata": {},
   "outputs": [
    {
     "data": {
      "text/plain": [
       "array([3, 0, 1, 2, 0, 1])"
      ]
     },
     "execution_count": 13,
     "metadata": {},
     "output_type": "execute_result"
    }
   ],
   "source": [
    "model.labels_\n",
    "# the output matches the prediction on orig dataset:\n",
    "# there are 2 customers in cluster 2, 2 customers in cluster 1, 1 in cluster 3 and 1 in 0"
   ]
  },
  {
   "cell_type": "code",
   "execution_count": 14,
   "metadata": {},
   "outputs": [
    {
     "name": "stdout",
     "output_type": "stream",
     "text": [
      "[0.3333333333333333, 0.3333333333333333, 0.16666666666666666, 0.16666666666666666, 0.0, 0.0, 0.0, 0.0, 0.0, 0.0]\n",
      "[0.5, 0.3333333333333333, 0.16666666666666666, 0.0, 0.0, 0.0, 0.0, 0.0, 0.0, 0.0]\n"
     ]
    },
    {
     "data": {
      "text/plain": [
       "<matplotlib.axes._subplots.AxesSubplot at 0x1f53b876848>"
      ]
     },
     "execution_count": 14,
     "metadata": {},
     "output_type": "execute_result"
    },
    {
     "data": {
      "image/png": "[encoded data removed]",
      "text/plain": [
       "<Figure size 432x288 with 1 Axes>"
      ]
     },
     "metadata": {
      "needs_background": "light"
     },
     "output_type": "display_data"
    }
   ],
   "source": [
    "L = len(purchases.index)\n",
    "x = [i for i in range (10)]\n",
    "orig = []\n",
    "NEW = []\n",
    "for i in range(10):\n",
    "    orig.append((predict_purchases_dataset== i).sum()/L)\n",
    "    NEW.append((predict_purchases_NewDataset== i).sum()/L)\n",
    "\n",
    "print(orig)\n",
    "print(NEW)\n",
    "\n",
    "df_summary = pd.DataFrame({'cluster' : x, 'propotion_orig' : orig, 'proportion_NEW': NEW})\n",
    "df_summary.plot(x='cluster', y= ['propotion_orig','proportion_NEW' ], kind='bar')"
   ]
  },
  {
   "cell_type": "code",
   "execution_count": 15,
   "metadata": {},
   "outputs": [],
   "source": [
    "#the above diagram shows that cluster 2 is represented by a large proportion in the new dataset"
   ]
  },
  {
   "cell_type": "code",
   "execution_count": 16,
   "metadata": {},
   "outputs": [
    {
     "data": {
      "text/plain": [
       "array([[ 2.21288483, -0.39114416, -0.53877432],\n",
       "       [-1.20167563, -1.66021908,  0.55398423],\n",
       "       [ 0.1255879 ,  2.74808564,  0.95738418],\n",
       "       [-2.1480063 ,  1.35464084, -0.987804  ]])"
      ]
     },
     "execution_count": 16,
     "metadata": {},
     "output_type": "execute_result"
    }
   ],
   "source": [
    "model.cluster_centers_"
   ]
  },
  {
   "cell_type": "code",
   "execution_count": 17,
   "metadata": {
    "scrolled": true
   },
   "outputs": [
    {
     "name": "stdout",
     "output_type": "stream",
     "text": [
      "      apples    oranges       figs      pears    berries   tomatoes     onions\n",
      "0   6.856632  12.917453  21.462751   2.476402   4.464275  21.608906   3.263839\n",
      "1   3.815409  11.140532  10.647411  13.750075  12.931495   1.829856   8.183790\n",
      "2  20.845435   1.405542   5.974547   4.056566  -0.426516   0.890788   2.932460\n",
      "3  11.810483  -0.521511  -8.194870   9.490480   4.634975   5.231688  12.172282\n"
     ]
    }
   ],
   "source": [
    "IPCA = pca.inverse_transform(model.cluster_centers_)\n",
    "APPROX = scaler.inverse_transform(IPCA)\n",
    "approx_df =pd.DataFrame(APPROX, columns=purchases.columns)\n",
    "print(approx_df)"
   ]
  },
  {
   "cell_type": "code",
   "execution_count": 18,
   "metadata": {},
   "outputs": [],
   "source": [
    "#so cluster 2 center has coordinates:\n",
    "#    apples=7\n",
    "#    oranges=13\n",
    "#    figs=21\n",
    "#    pears=2\n",
    "#    berries=4\n",
    "#    tomatoes=21\n",
    "#    onions=3"
   ]
  }
 ],
 "metadata": {
  "kernelspec": {
   "display_name": "Python 3",
   "language": "python",
   "name": "python3"
  },
  "language_info": {
   "codemirror_mode": {
    "name": "ipython",
    "version": 3
   },
   "file_extension": ".py",
   "mimetype": "text/x-python",
   "name": "python",
   "nbconvert_exporter": "python",
   "pygments_lexer": "ipython3",
   "version": "3.7.6"
  }
 },
 "nbformat": 4,
 "nbformat_minor": 1
}
